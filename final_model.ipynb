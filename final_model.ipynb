{
 "cells": [
  {
   "cell_type": "code",
   "execution_count": 1,
   "metadata": {},
   "outputs": [],
   "source": [
    "from DataLoading import FacialDetectionDataset,Normalise,Rescale,RandomCrop,ToTensor\n",
    "from torchvision import transforms\n",
    "from torch.utils.data import DataLoader\n",
    "import torch\n",
    "import torch.nn as nn\n",
    "import torch.nn.functional as F\n",
    "from torch.autograd import Variable\n",
    "from visdom import Visdom\n",
    "import numpy as np\n",
    "import cv2\n",
    "import matplotlib.pyplot as plt"
   ]
  },
  {
   "cell_type": "code",
   "execution_count": 2,
   "metadata": {},
   "outputs": [],
   "source": [
    "data_transform = transforms.Compose([Rescale((128)),RandomCrop(96),Normalise(),ToTensor()])"
   ]
  },
  {
   "cell_type": "code",
   "execution_count": 3,
   "metadata": {},
   "outputs": [],
   "source": [
    "dataset = FacialDetectionDataset(csv_file='data/training_frames_keypoints.csv',root_dir='data/training/',\n",
    "                                transform=data_transform)"
   ]
  },
  {
   "cell_type": "code",
   "execution_count": 4,
   "metadata": {},
   "outputs": [],
   "source": [
    "kwargs = {'num_workers' : 4} if torch.cuda.is_available() else {}"
   ]
  },
  {
   "cell_type": "code",
   "execution_count": 5,
   "metadata": {},
   "outputs": [],
   "source": [
    "batch_size = 10\n",
    "\n",
    "train_loader = DataLoader(dataset,batch_size = batch_size , shuffle = True , **kwargs)"
   ]
  },
  {
   "cell_type": "code",
   "execution_count": 6,
   "metadata": {},
   "outputs": [],
   "source": [
    "test_dataset = FacialDetectionDataset(csv_file = 'data/test_frames_keypoints.csv',root_dir = 'data/test/',\n",
    "                                      transform= data_transform)"
   ]
  },
  {
   "cell_type": "code",
   "execution_count": 7,
   "metadata": {},
   "outputs": [],
   "source": [
    "test_loader = DataLoader(test_dataset , batch_size= batch_size  , **kwargs)"
   ]
  },
  {
   "cell_type": "code",
   "execution_count": 8,
   "metadata": {},
   "outputs": [],
   "source": [
    "device = torch.device(\"cuda:0\" if torch.cuda.is_available() else \"cpu\")"
   ]
  },
  {
   "cell_type": "code",
   "execution_count": 9,
   "metadata": {},
   "outputs": [],
   "source": [
    "sample = dataset[65]\n",
    "image,keypoints = sample['image'],sample['key_pts']"
   ]
  },
  {
   "cell_type": "code",
   "execution_count": 10,
   "metadata": {},
   "outputs": [],
   "source": [
    "class Network(nn.Module):\n",
    "    def __init__(self):\n",
    "        super(Network,self).__init__()\n",
    "        self.conv1 = nn.Conv2d(in_channels=1 ,out_channels= 32 , kernel_size=4 ,stride=1)\n",
    "        self.conv2 = nn.Conv2d(in_channels=32 ,out_channels= 46 , kernel_size =3 ,stride=1)\n",
    "        self.conv3 = nn.Conv2d(in_channels=46 ,out_channels = 128 , kernel_size = 2 ,stride =1)\n",
    "        self.conv4 = nn.Conv2d(in_channels=128 ,out_channels = 256,kernel_size =1 ,stride =1)\n",
    "        \n",
    "        self.pool = nn.MaxPool2d(kernel_size=2 , stride =2)\n",
    "        \n",
    "        #self.fc1 = nn.Linear(128*6*6,6400)\n",
    "        self.fc2 = nn.Linear(6400,1000)\n",
    "        self.fc3 = nn.Linear(1000,500)\n",
    "        self.fc4 = nn.Linear(500,136)\n",
    "        \n",
    "        self.d1 = nn.Dropout(p = 0.5)\n",
    "        self.d2 = nn.Dropout(p = 0.5)\n",
    "        self.d3 = nn.Dropout(p = 0.5)\n",
    "        self.d4 = nn.Dropout(p = 0.5)\n",
    "        self.d5 = nn.Dropout(p = 0.5)\n",
    "        self.d6 = nn.Dropout(p = 0.5)\n",
    "        self.d7 = nn.Dropout(p = 0.5)\n",
    "        \n",
    "    def forward(self,x):\n",
    "        out = self.conv1(x)\n",
    "        out = F.relu(out)\n",
    "        out = self.pool(out)\n",
    "        out = self.d1(out)\n",
    "        \n",
    "        out = self.conv2(out)\n",
    "        out = F.relu(out)\n",
    "        out = self.pool(out)\n",
    "        out = self.d2(out)\n",
    "        \n",
    "        out = self.conv3(out)\n",
    "        out = F.relu(out)\n",
    "        out = self.pool(out)\n",
    "        out = self.d3(out)\n",
    "        \n",
    "        out = self.conv4(out)\n",
    "        out = F.relu(out)\n",
    "        out = self.pool(out)\n",
    "        out = self.d4(out)\n",
    "        \n",
    "        out = out.view(out.size(0),-1)\n",
    "        \n",
    "#         out = self.fc1(out)\n",
    "#         out = F.elu(out)\n",
    "#         out = self.d5(out)\n",
    "        \n",
    "        out = self.fc2(out)\n",
    "        out = F.relu(out)\n",
    "        out = self.d6(out)\n",
    "        \n",
    "        out = self.fc3(out)\n",
    "        out = F.relu(out)\n",
    "        out = self.d7(out)\n",
    "        \n",
    "        out = self.fc4(out)\n",
    "        return out"
   ]
  },
  {
   "cell_type": "code",
   "execution_count": 11,
   "metadata": {},
   "outputs": [
    {
     "data": {
      "text/plain": [
       "3462"
      ]
     },
     "execution_count": 11,
     "metadata": {},
     "output_type": "execute_result"
    }
   ],
   "source": [
    "len(dataset)"
   ]
  },
  {
   "cell_type": "code",
   "execution_count": 12,
   "metadata": {},
   "outputs": [
    {
     "data": {
      "text/plain": [
       "346.2"
      ]
     },
     "execution_count": 12,
     "metadata": {},
     "output_type": "execute_result"
    }
   ],
   "source": [
    "3462/10"
   ]
  },
  {
   "cell_type": "code",
   "execution_count": 13,
   "metadata": {},
   "outputs": [
    {
     "data": {
      "text/plain": [
       "8655.0"
      ]
     },
     "execution_count": 13,
     "metadata": {},
     "output_type": "execute_result"
    }
   ],
   "source": [
    "346.2*25"
   ]
  },
  {
   "cell_type": "code",
   "execution_count": 14,
   "metadata": {},
   "outputs": [],
   "source": [
    "net = Network()"
   ]
  },
  {
   "cell_type": "code",
   "execution_count": 15,
   "metadata": {},
   "outputs": [],
   "source": [
    "net = net.to(device)"
   ]
  },
  {
   "cell_type": "code",
   "execution_count": 16,
   "metadata": {},
   "outputs": [],
   "source": [
    "n_epochs = 1\n",
    "criterion = nn.MSELoss()"
   ]
  },
  {
   "cell_type": "code",
   "execution_count": 17,
   "metadata": {},
   "outputs": [],
   "source": [
    "learning_rate = 0.01\n",
    "optimizer = torch.optim.Adam(net.parameters(),lr = learning_rate)"
   ]
  },
  {
   "cell_type": "code",
   "execution_count": 18,
   "metadata": {},
   "outputs": [
    {
     "name": "stdout",
     "output_type": "stream",
     "text": [
      "Epoch: 1, Batch: 1, Avg. Loss: 0.0011868464946746826\n",
      "Epoch: 1, Batch: 101, Avg. Loss: 1.440201768502593\n",
      "Epoch: 1, Batch: 201, Avg. Loss: 0.018232221119105815\n",
      "Epoch: 1, Batch: 301, Avg. Loss: 0.015860977243632078\n"
     ]
    }
   ],
   "source": [
    "iter = 0\n",
    "# vis = Visdom()\n",
    "# vis_window = vis.line(np.array([0]),np.array([0]))\n",
    "for epoch in range(n_epochs):\n",
    "    learning_loss =0.0\n",
    "    for i,sample in enumerate(train_loader):\n",
    "        image , keypoints = sample['image'],sample['key_pts']\n",
    "        image = Variable(image.to(device))\n",
    "        image = image.type(torch.FloatTensor)\n",
    "        keypoints = Variable(keypoints.to(device)).type(torch.FloatTensor)\n",
    "        \n",
    "        optimizer.zero_grad()\n",
    "        \n",
    "        outputs = net(image)\n",
    "        outputs = outputs.reshape(outputs.shape[0],-1,2)\n",
    "        loss = criterion(outputs,keypoints)\n",
    "        loss.backward()\n",
    "        \n",
    "        optimizer.step()\n",
    "        learning_loss +=(loss.data.item())\n",
    "        iter += 1\n",
    "#         vis.line(np.array([loss.item()]),np.array([iter]),win = vis_window ,update = 'append',opts =dict(xlabel='iterations',\n",
    "#                                                                                                          ylabel='MSE error',\n",
    "#                                                                                                          title='epoch loss and accuracy') )\n",
    "        if i%100 == 0:\n",
    "            print('Epoch: {}, Batch: {}, Avg. Loss: {}'.format(epoch + 1, i+1, learning_loss/1000))\n",
    "            learning_loss = 0.0\n",
    "            "
   ]
  },
  {
   "cell_type": "code",
   "execution_count": 19,
   "metadata": {},
   "outputs": [],
   "source": [
    "sample = dataset[90]"
   ]
  },
  {
   "cell_type": "code",
   "execution_count": 20,
   "metadata": {},
   "outputs": [],
   "source": [
    "image , keypoints = sample['image'] ,sample['key_pts']"
   ]
  },
  {
   "cell_type": "code",
   "execution_count": 21,
   "metadata": {},
   "outputs": [
    {
     "data": {
      "text/plain": [
       "torch.Size([1, 96, 96])"
      ]
     },
     "execution_count": 21,
     "metadata": {},
     "output_type": "execute_result"
    }
   ],
   "source": [
    "image.shape"
   ]
  },
  {
   "cell_type": "code",
   "execution_count": 22,
   "metadata": {},
   "outputs": [],
   "source": [
    "image = image*255\n",
    "keypoints = keypoints*50 + 100"
   ]
  },
  {
   "cell_type": "code",
   "execution_count": 23,
   "metadata": {},
   "outputs": [],
   "source": [
    "image = image.reshape(1,1,96,96)"
   ]
  },
  {
   "cell_type": "code",
   "execution_count": 24,
   "metadata": {},
   "outputs": [],
   "source": [
    "image = image.type(torch.FloatTensor)"
   ]
  },
  {
   "cell_type": "code",
   "execution_count": 25,
   "metadata": {},
   "outputs": [],
   "source": [
    "output = net(image)"
   ]
  },
  {
   "cell_type": "code",
   "execution_count": 26,
   "metadata": {},
   "outputs": [],
   "source": [
    "for param in net.parameters():\n",
    "    param.requires_grad = False"
   ]
  },
  {
   "cell_type": "code",
   "execution_count": 27,
   "metadata": {},
   "outputs": [],
   "source": [
    "image = image.numpy()\n",
    "keypoints = keypoints.numpy()"
   ]
  },
  {
   "cell_type": "code",
   "execution_count": 28,
   "metadata": {},
   "outputs": [],
   "source": [
    "image= image.reshape(96,96)"
   ]
  },
  {
   "cell_type": "code",
   "execution_count": 29,
   "metadata": {},
   "outputs": [],
   "source": [
    "output = output*50 + 100"
   ]
  },
  {
   "cell_type": "code",
   "execution_count": 30,
   "metadata": {},
   "outputs": [],
   "source": [
    "output = output.detach()"
   ]
  },
  {
   "cell_type": "code",
   "execution_count": 31,
   "metadata": {
    "scrolled": true
   },
   "outputs": [
    {
     "data": {
      "text/plain": [
       "tensor([[13.7531, 49.0445, 12.0962, 55.2215, 15.1693, 62.1832, 16.9034, 68.3543,\n",
       "         19.2945, 75.8055, 22.5975, 82.1682, 28.3302, 85.1990, 35.3449, 87.9983,\n",
       "         43.5826, 90.4514, 51.9583, 86.8394, 56.9676, 83.2455, 62.2169, 79.2293,\n",
       "         66.1616, 74.4603, 67.5231, 66.8349, 67.2777, 60.5546, 69.7146, 53.2416,\n",
       "         68.6647, 45.9225, 17.9060, 39.8639, 21.9177, 37.7595, 27.1374, 35.1532,\n",
       "         29.6119, 36.2948, 34.3697, 37.3613, 47.8303, 35.9583, 50.4562, 35.8388,\n",
       "         55.4746, 35.3189, 59.8623, 35.5728, 62.0794, 37.5860, 40.7669, 45.1639,\n",
       "         41.1548, 49.2854, 41.6981, 54.4175, 40.8228, 59.3318, 37.7966, 62.1262,\n",
       "         39.5966, 61.7686, 41.1755, 63.7784, 43.4150, 62.0322, 46.0904, 61.5692,\n",
       "         24.3080, 44.9616, 26.7240, 43.5931, 31.2578, 43.8214, 33.4305, 46.5587,\n",
       "         31.0784, 46.3253, 27.1895, 46.3002, 48.5977, 44.6659, 51.6960, 42.7868,\n",
       "         53.9745, 42.7071, 56.7044, 43.7373, 53.4999, 45.5981, 50.5798, 45.3195,\n",
       "         31.9583, 71.5583, 35.6447, 69.9917, 39.6871, 68.7778, 41.7875, 69.2431,\n",
       "         42.9600, 67.9122, 48.7800, 69.5900, 51.0860, 70.9186, 48.3475, 73.9322,\n",
       "         46.0909, 75.7082, 43.0627, 76.5637, 39.1142, 76.3673, 37.7703, 74.9843,\n",
       "         33.5356, 73.3176, 40.3493, 70.5485, 42.2049, 70.2289, 44.9487, 70.2133,\n",
       "         51.1686, 71.9448, 44.2436, 73.0372, 41.2801, 73.6019, 39.2849, 71.6645]])"
      ]
     },
     "execution_count": 31,
     "metadata": {},
     "output_type": "execute_result"
    }
   ],
   "source": [
    "output"
   ]
  },
  {
   "cell_type": "code",
   "execution_count": 32,
   "metadata": {},
   "outputs": [],
   "source": [
    "output = output.reshape(68,2)"
   ]
  },
  {
   "cell_type": "code",
   "execution_count": 34,
   "metadata": {},
   "outputs": [
    {
     "data": {
      "text/plain": [
       "<matplotlib.collections.PathCollection at 0x1250b2978>"
      ]
     },
     "execution_count": 34,
     "metadata": {},
     "output_type": "execute_result"
    },
    {
     "data": {
      "image/png": "[encoded data removed]",
      "text/plain": [
       "<matplotlib.figure.Figure at 0x1250b2860>"
      ]
     },
     "metadata": {
      "needs_background": "light"
     },
     "output_type": "display_data"
    }
   ],
   "source": [
    "plt.imshow(image,cmap='gray')\n",
    "plt.scatter(keypoints[:, 0], keypoints[:, 1], s=20, marker='.', c='r')\n",
    "#plt.scatter(output[:,0],output[:,1],s=20,marker='.',c='b')"
   ]
  },
  {
   "cell_type": "code",
   "execution_count": null,
   "metadata": {},
   "outputs": [],
   "source": []
  },
  {
   "cell_type": "code",
   "execution_count": null,
   "metadata": {},
   "outputs": [],
   "source": []
  }
 ],
 "metadata": {
  "kernelspec": {
   "display_name": "Python 3",
   "language": "python",
   "name": "python3"
  },
  "language_info": {
   "codemirror_mode": {
    "name": "ipython",
    "version": 3
   },
   "file_extension": ".py",
   "mimetype": "text/x-python",
   "name": "python",
   "nbconvert_exporter": "python",
   "pygments_lexer": "ipython3",
   "version": "3.6.8"
  }
 },
 "nbformat": 4,
 "nbformat_minor": 2
}

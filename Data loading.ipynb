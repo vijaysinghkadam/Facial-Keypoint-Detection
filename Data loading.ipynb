{
 "cells": [
  {
   "cell_type": "code",
   "execution_count": 75,
   "metadata": {},
   "outputs": [],
   "source": [
    "import pandas as pd\n",
    "import matplotlib.pyplot as plt\n",
    "import matplotlib.image as mpimage\n",
    "import os\n",
    "from torch.utils.data import Dataset,DataLoader\n",
    "import numpy as np\n",
    "import cv2\n",
    "import torch\n",
    "from torchvision import transforms"
   ]
  },
  {
   "cell_type": "code",
   "execution_count": 77,
   "metadata": {},
   "outputs": [],
   "source": [
    "class FacialDetectionDataset(Dataset):\n",
    "    def __init__(self,csv_file,root_dir,transform=None):\n",
    "        self.key_pts_frame = pd.read_csv(csv_file)\n",
    "        self.root_dir = root_dir\n",
    "        self.transform = transform\n",
    "        \n",
    "    def __len__(self):\n",
    "        return len(self.key_pts_frame)\n",
    "    \n",
    "    def __getitem__(self,idx):\n",
    "        image_name = self.key_pts_frame.iloc[idx,0]\n",
    "        image = mpimage.imread(os.path.join(self.root_dir,image_name))\n",
    "        \n",
    "        if image.shape[2] == 4:\n",
    "            image = image[:,:,0:3]\n",
    "            \n",
    "        key_pts = self.key_pts_frame.iloc[idx,1:].as_matrix()\n",
    "        key_pts = key_pts.astype('float').reshape(-1,2)\n",
    "        \n",
    "        sample = {'image':image,'key_pts':key_pts}\n",
    "        \n",
    "        if self.transform is not None:\n",
    "            sample = self.transform(sample)\n",
    "            \n",
    "        return sample"
   ]
  },
  {
   "cell_type": "code",
   "execution_count": 79,
   "metadata": {},
   "outputs": [],
   "source": [
    "class Normalise(object):\n",
    "    def __call__(self,sample):\n",
    "        image,key_pts = sample['image'],sample['key_pts']\n",
    "        \n",
    "        image_copy = np.copy(image)\n",
    "        key_pts_copy = np.copy(key_pts)\n",
    "        \n",
    "        image_copy = cv2.cvtColor(image_copy,cv2.COLOR_RGB2GRAY)\n",
    "        \n",
    "        image_copy = image_copy/255.0\n",
    "        \n",
    "        key_pts_copy = (key_pts_copy - 100)/50\n",
    "        \n",
    "        return {'image':image_copy,'key_pts':key_pts_copy}"
   ]
  },
  {
   "cell_type": "code",
   "execution_count": 80,
   "metadata": {},
   "outputs": [],
   "source": [
    "class Rescale(object):\n",
    "    def __init__(self,output_size):\n",
    "        assert isinstance(output_size,(int,tuple))\n",
    "        self.output_size = output_size\n",
    "        \n",
    "    def __call__(self,sample):\n",
    "        image , key_pts = sample['image'],sample['key_pts']\n",
    "        \n",
    "        h,w = image.shape[:2]\n",
    "        \n",
    "        if isinstance(self.output_size,int):\n",
    "            if h>w:\n",
    "                new_h , new_w = self.output_size * h/w , self.output_size\n",
    "            else:\n",
    "                new_h , new_w = self.output_size , self.output_size * w/h\n",
    "        else:\n",
    "            new_h , new_w = self.output_size\n",
    "            \n",
    "        new_h , new_w = int(new_h) , int(new_w)\n",
    "        \n",
    "        img = cv2.resize(image,(new_h,new_w))\n",
    "        \n",
    "        key_pts = key_pts * [new_w/w , new_h/h]\n",
    "        \n",
    "        return {'image':img,'key_pts':key_pts}\n",
    "    "
   ]
  },
  {
   "cell_type": "code",
   "execution_count": 81,
   "metadata": {},
   "outputs": [],
   "source": [
    "class RandomCrop(object):\n",
    "    def __init__(self,output_size):\n",
    "        assert isinstance(output_size,(int,tuple))\n",
    "        if isinstance(output_size , int):\n",
    "            self.output_size = (output_size,output_size)\n",
    "        else:\n",
    "            assert len(output_size)==2\n",
    "            self.output_size = output_size\n",
    "            \n",
    "    def __call__(self,sample):\n",
    "        image , key_pts = sample['image'],sample['key_pts']\n",
    "        \n",
    "        h , w = image.shape[:2]\n",
    "        \n",
    "        new_h , new_w = self.output_size\n",
    "        \n",
    "        top = np.random.randint(0,h - new_h)\n",
    "        left = np.random.randint(0,w - new_w)\n",
    "        \n",
    "        image = image[top:top+new_h , left:left+new_w]\n",
    "        key_pts = key_pts - [left,top]\n",
    "        \n",
    "        return {'image':image,'key_pts':key_pts}"
   ]
  },
  {
   "cell_type": "code",
   "execution_count": 82,
   "metadata": {},
   "outputs": [],
   "source": [
    "class ToTensor(object):\n",
    "    def __call__(self,sample):\n",
    "        image , key_pts = sample['image'],sample['key_pts']\n",
    "        \n",
    "        if image.shape == 2:\n",
    "            image = image.reshape(image.shape[0],image.shape[1],1)\n",
    "            \n",
    "        return {'image':torch.from_numpy(image),'key_pts':torch.from_numpy(key_pts)}"
   ]
  },
  {
   "cell_type": "code",
   "execution_count": null,
   "metadata": {},
   "outputs": [],
   "source": []
  }
 ],
 "metadata": {
  "kernelspec": {
   "display_name": "Python 3",
   "language": "python",
   "name": "python3"
  },
  "language_info": {
   "codemirror_mode": {
    "name": "ipython",
    "version": 3
   },
   "file_extension": ".py",
   "mimetype": "text/x-python",
   "name": "python",
   "nbconvert_exporter": "python",
   "pygments_lexer": "ipython3",
   "version": "3.6.8"
  }
 },
 "nbformat": 4,
 "nbformat_minor": 2
}
